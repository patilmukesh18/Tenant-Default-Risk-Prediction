{
 "cells": [
  {
   "cell_type": "code",
   "execution_count": 2,
   "id": "32a3c485-3e5e-434b-ac86-3a79697ca555",
   "metadata": {},
   "outputs": [],
   "source": [
    "import pandas as pd\n",
    "import numpy as np"
   ]
  },
  {
   "cell_type": "code",
   "execution_count": 4,
   "id": "9ddf600e-2bae-452e-be16-5b4a9de28e05",
   "metadata": {},
   "outputs": [
    {
     "name": "stdout",
     "output_type": "stream",
     "text": [
      "Dataset with 5000 rows saved as 'construction_cost_prediction_dataset.csv'\n"
     ]
    }
   ],
   "source": [
    "# Function to generate synthetic data\n",
    "def generate_construction_cost_data(num_records=1000):\n",
    "    np.random.seed(42)\n",
    "    \n",
    "    # Generate synthetic features\n",
    "    project_ids = np.arange(1, num_records + 1)\n",
    "    project_types = np.random.choice([\"Residential\", \"Commercial\", \"Mixed-use\"], size=num_records)\n",
    "    total_area = np.random.randint(500, 10000, size=num_records)  # Total project area in sq. ft\n",
    "    num_floors = np.random.randint(1, 20, size=num_records)\n",
    "    material_cost_per_sqft = np.round(np.random.uniform(20, 150, size=num_records), 2)  # Material cost per sq. ft\n",
    "    labor_cost_per_sqft = np.round(np.random.uniform(10, 100, size=num_records), 2)  # Labor cost per sq. ft\n",
    "    project_duration = np.random.randint(6, 36, size=num_records)  # Project duration in months\n",
    "    location_types = np.random.choice([\"Urban\", \"Semi-Urban\", \"Rural\"], size=num_records)\n",
    "    transportation_cost = np.round(np.random.uniform(5000, 50000, size=num_records), 2)  # Transportation cost\n",
    "    inflation_rate = np.round(np.random.uniform(1.5, 6.0, size=num_records), 2)  # Inflation rate percentage\n",
    "    complexity = np.random.choice([\"Simple\", \"Medium\", \"Complex\"], size=num_records)\n",
    "\n",
    "    # Derived target variable: Total Construction Cost\n",
    "    base_cost = total_area * (material_cost_per_sqft + labor_cost_per_sqft)\n",
    "    complexity_factor = [1.0 if c == \"Simple\" else 1.2 if c == \"Medium\" else 1.5 for c in complexity]\n",
    "    location_factor = [1.2 if loc == \"Urban\" else 1.1 if loc == \"Semi-Urban\" else 1.0 for loc in location_types]\n",
    "    inflation_adjustment = 1 + (inflation_rate / 100)\n",
    "    total_construction_cost = np.round(base_cost * np.array(complexity_factor) * np.array(location_factor) * inflation_adjustment + transportation_cost, 2)\n",
    "    \n",
    "    # Create DataFrame\n",
    "    data = {\n",
    "        \"Project_ID\": project_ids,\n",
    "        \"Project_Type\": project_types,\n",
    "        \"Total_Area_SqFt\": total_area,\n",
    "        \"Number_of_Floors\": num_floors,\n",
    "        \"Material_Cost_per_SqFt\": material_cost_per_sqft,\n",
    "        \"Labor_Cost_per_SqFt\": labor_cost_per_sqft,\n",
    "        \"Project_Duration_Months\": project_duration,\n",
    "        \"Location_Type\": location_types,\n",
    "        \"Transportation_Cost\": transportation_cost,\n",
    "        \"Inflation_Rate\": inflation_rate,\n",
    "        \"Complexity\": complexity,\n",
    "        \"Total_Construction_Cost\": total_construction_cost\n",
    "    }\n",
    "    \n",
    "    return pd.DataFrame(data)\n",
    "\n",
    "# Generate dataset\n",
    "num_records = 5000\n",
    "construction_dataset = generate_construction_cost_data(num_records)\n",
    "\n",
    "# Save to CSV\n",
    "construction_dataset.to_csv(\"construction_cost_prediction_dataset.csv\", index=False)\n",
    "print(f\"Dataset with {num_records} rows saved as 'construction_cost_prediction_dataset.csv'\")\n"
   ]
  },
  {
   "cell_type": "code",
   "execution_count": null,
   "id": "7fae10c5-018c-4400-909c-c2843b5e0fc2",
   "metadata": {},
   "outputs": [],
   "source": []
  }
 ],
 "metadata": {
  "kernelspec": {
   "display_name": "Python 3 (ipykernel)",
   "language": "python",
   "name": "python3"
  },
  "language_info": {
   "codemirror_mode": {
    "name": "ipython",
    "version": 3
   },
   "file_extension": ".py",
   "mimetype": "text/x-python",
   "name": "python",
   "nbconvert_exporter": "python",
   "pygments_lexer": "ipython3",
   "version": "3.12.7"
  }
 },
 "nbformat": 4,
 "nbformat_minor": 5
}
